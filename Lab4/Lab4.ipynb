{
 "cells": [
  {
   "cell_type": "code",
   "execution_count": 2,
   "id": "cd6954ea-e9b6-47d8-8ee6-a0a9f3b01a28",
   "metadata": {},
   "outputs": [],
   "source": [
    "# Kindly use the Jupyter Notebook to run this program.\n",
    "\n",
    "import numpy as np\n",
    "from sklearn.datasets import load_iris\n",
    "from sklearn.model_selection import train_test_split\n",
    "from sklearn.neighbors import KNeighborsClassifier\n",
    "from sklearn.metrics import accuracy_score, f1_score\n"
   ]
  },
  {
   "cell_type": "code",
   "execution_count": 4,
   "id": "280b78f5-7b4b-46b4-8520-f6ad4dc78e45",
   "metadata": {},
   "outputs": [],
   "source": [
    "# Load the Iris dataset\n",
    "iris = load_iris()\n",
    "X = iris.data  # Features\n",
    "y = iris.target  # Labels\n",
    "\n",
    "# Split the data: 70% train, 30% test\n",
    "X_train, X_test, y_train, y_test = train_test_split(\n",
    "    X, y, test_size=0.3, random_state=42\n",
    ")\n"
   ]
  },
  {
   "cell_type": "code",
   "execution_count": 6,
   "id": "30d5f06d-cb9e-4a3f-a7d6-f72cf9082e1f",
   "metadata": {},
   "outputs": [],
   "source": [
    "# Function to evaluate k-NN for different values of k\n",
    "def cls_knn(X_train, X_test, y_train, y_test, k_values, weighted=False):\n",
    "    results = {}\n",
    "    for k in k_values:\n",
    "        knn = KNeighborsClassifier(n_neighbors=k, weights='distance' if weighted else 'uniform')\n",
    "        knn.fit(X_train, y_train)\n",
    "        y_pred = knn.predict(X_test)\n",
    "        \n",
    "        accuracy = accuracy_score(y_test, y_pred)\n",
    "        f1 = f1_score(y_test, y_pred, average='weighted')  # Handle multi-class\n",
    "        results[k] = {'accuracy': accuracy, 'f1_score': f1}\n",
    "    return results\n"
   ]
  },
  {
   "cell_type": "code",
   "execution_count": 8,
   "id": "37e61cc3-4007-420d-b444-04116cf390c6",
   "metadata": {},
   "outputs": [
    {
     "name": "stdout",
     "output_type": "stream",
     "text": [
      "📊 Regular k-NN Results:\n",
      "k=1: Accuracy = 1.0000, F1-Score = 1.0000\n",
      "k=3: Accuracy = 1.0000, F1-Score = 1.0000\n",
      "k=5: Accuracy = 1.0000, F1-Score = 1.0000\n",
      "\n",
      "📊 Weighted k-NN Results:\n",
      "k=1: Accuracy = 1.0000, F1-Score = 1.0000\n",
      "k=3: Accuracy = 1.0000, F1-Score = 1.0000\n",
      "k=5: Accuracy = 1.0000, F1-Score = 1.0000\n"
     ]
    }
   ],
   "source": [
    "# Test for different values of k\n",
    "k_values = [1, 3, 5]\n",
    "\n",
    "# Evaluate regular k-NN\n",
    "print(\"📊 Regular k-NN Results:\")\n",
    "regular_knn = cls_knn(X_train, X_test, y_train, y_test, k_values, weighted=False)\n",
    "for k, metrics in regular_knn.items():\n",
    "    print(f\"k={k}: Accuracy = {metrics['accuracy']:.4f}, F1-Score = {metrics['f1_score']:.4f}\")\n",
    "\n",
    "# Evaluate weighted k-NN\n",
    "print(\"\\n📊 Weighted k-NN Results:\")\n",
    "weighted_knn = cls_knn(X_train, X_test, y_train, y_test, k_values, weighted=True)\n",
    "for k, metrics in weighted_knn.items():\n",
    "    print(f\"k={k}: Accuracy = {metrics['accuracy']:.4f}, F1-Score = {metrics['f1_score']:.4f}\")\n"
   ]
  },
  {
   "cell_type": "code",
   "execution_count": 10,
   "id": "e6a95719-16d1-4b4f-bffb-b3d9af286f14",
   "metadata": {},
   "outputs": [
    {
     "name": "stdout",
     "output_type": "stream",
     "text": [
      "\n",
      "🔍 Comparison of Regular vs Weighted k-NN Accuracy:\n",
      "k=1: Regular = 1.0000, Weighted = 1.0000\n",
      "k=3: Regular = 1.0000, Weighted = 1.0000\n",
      "k=5: Regular = 1.0000, Weighted = 1.0000\n"
     ]
    }
   ],
   "source": [
    "# Compare both versions side by side\n",
    "print(\"\\n🔍 Comparison of Regular vs Weighted k-NN Accuracy:\")\n",
    "for k in k_values:\n",
    "    reg_acc = regular_knn[k]['accuracy']\n",
    "    wt_acc = weighted_knn[k]['accuracy']\n",
    "    print(f\"k={k}: Regular = {reg_acc:.4f}, Weighted = {wt_acc:.4f}\")\n"
   ]
  }
 ],
 "metadata": {
  "kernelspec": {
   "display_name": "Python [conda env:base] *",
   "language": "python",
   "name": "conda-base-py"
  },
  "language_info": {
   "codemirror_mode": {
    "name": "ipython",
    "version": 3
   },
   "file_extension": ".py",
   "mimetype": "text/x-python",
   "name": "python",
   "nbconvert_exporter": "python",
   "pygments_lexer": "ipython3",
   "version": "3.12.7"
  }
 },
 "nbformat": 4,
 "nbformat_minor": 5
}
